{
 "cells": [
  {
   "cell_type": "code",
   "execution_count": 3,
   "id": "e9079142",
   "metadata": {},
   "outputs": [
    {
     "name": "stdout",
     "output_type": "stream",
     "text": [
      "Defaulting to user installation because normal site-packages is not writeable\n",
      "Requirement already satisfied: psycopg2 in c:\\users\\admin\\appdata\\roaming\\python\\python39\\site-packages (2.9.10)\n"
     ]
    }
   ],
   "source": [
    "!pip install psycopg2"
   ]
  },
  {
   "cell_type": "code",
   "execution_count": 4,
   "id": "3d700f07",
   "metadata": {},
   "outputs": [
    {
     "ename": "NameError",
     "evalue": "name 'hi' is not defined",
     "output_type": "error",
     "traceback": [
      "\u001b[1;31m---------------------------------------------------------------------------\u001b[0m",
      "\u001b[1;31mNameError\u001b[0m                                 Traceback (most recent call last)",
      "\u001b[1;32m~\\AppData\\Local\\Temp\\ipykernel_7116\\2187410482.py\u001b[0m in \u001b[0;36m<module>\u001b[1;34m\u001b[0m\n\u001b[1;32m----> 1\u001b[1;33m \u001b[0mhi\u001b[0m\u001b[1;33m\u001b[0m\u001b[1;33m\u001b[0m\u001b[0m\n\u001b[0m",
      "\u001b[1;31mNameError\u001b[0m: name 'hi' is not defined"
     ]
    }
   ],
   "source": [
    "hi"
   ]
  },
  {
   "cell_type": "code",
   "execution_count": 5,
   "id": "f3ef8f33",
   "metadata": {},
   "outputs": [
    {
     "ename": "ModuleNotFoundError",
     "evalue": "No module named 'psycopg2'",
     "output_type": "error",
     "traceback": [
      "\u001b[1;31m---------------------------------------------------------------------------\u001b[0m",
      "\u001b[1;31mModuleNotFoundError\u001b[0m                       Traceback (most recent call last)",
      "\u001b[1;32m~\\AppData\\Local\\Temp\\ipykernel_7116\\2540486483.py\u001b[0m in \u001b[0;36m<module>\u001b[1;34m\u001b[0m\n\u001b[1;32m----> 1\u001b[1;33m \u001b[1;32mimport\u001b[0m \u001b[0mpsycopg2\u001b[0m\u001b[1;33m\u001b[0m\u001b[1;33m\u001b[0m\u001b[0m\n\u001b[0m",
      "\u001b[1;31mModuleNotFoundError\u001b[0m: No module named 'psycopg2'"
     ]
    }
   ],
   "source": [
    "import psycopg2"
   ]
  },
  {
   "cell_type": "code",
   "execution_count": 6,
   "id": "45869250",
   "metadata": {},
   "outputs": [
    {
     "name": "stdout",
     "output_type": "stream",
     "text": [
      "Defaulting to user installation because normal site-packages is not writeable\n",
      "Requirement already satisfied: psycopg2 in c:\\users\\admin\\appdata\\roaming\\python\\python39\\site-packages (2.9.10)\n",
      "Note: you may need to restart the kernel to use updated packages.\n"
     ]
    }
   ],
   "source": [
    "pip install psycopg2\n"
   ]
  },
  {
   "cell_type": "code",
   "execution_count": 2,
   "id": "b0ece871",
   "metadata": {},
   "outputs": [],
   "source": [
    "import psycopg2"
   ]
  },
  {
   "cell_type": "code",
   "execution_count": null,
   "id": "2f340624",
   "metadata": {},
   "outputs": [],
   "source": []
  },
  {
   "cell_type": "code",
   "execution_count": 15,
   "id": "43a220f9",
   "metadata": {},
   "outputs": [],
   "source": [
    "try:\n",
    "    conn = psycopg2.connect(\"host=localhost port=5432 dbname=postgres user=postgres password=shiv\")\n",
    "except psycopg2.OperationalError as e:\n",
    "    print(\"Error: Could not make connection to database\")\n",
    "    print(e)"
   ]
  },
  {
   "cell_type": "code",
   "execution_count": 21,
   "id": "8559e6e9",
   "metadata": {},
   "outputs": [],
   "source": [
    "try:\n",
    "    cur = conn.cursor()\n",
    "except psycopg2.OperationaError as e:\n",
    "    print(\"Could not get cursor to database\")\n",
    "    print(e)"
   ]
  },
  {
   "cell_type": "code",
   "execution_count": 26,
   "id": "000143d8",
   "metadata": {},
   "outputs": [],
   "source": [
    "conn.rollback()\n",
    "conn.set_session(autocommit = True)"
   ]
  },
  {
   "cell_type": "code",
   "execution_count": 27,
   "id": "ee5effaa",
   "metadata": {},
   "outputs": [],
   "source": [
    "try:\n",
    "    cur.execute(\"CREATE DATABASE myfirstdb\")\n",
    "except psycopg2.Error as e:\n",
    "    print(\"Error: Couldn't create database \")\n",
    "    print(e)"
   ]
  },
  {
   "cell_type": "markdown",
   "id": "f1c4c534",
   "metadata": {},
   "source": [
    "Now connect to the database you created after closing the connection\n"
   ]
  },
  {
   "cell_type": "code",
   "execution_count": 28,
   "id": "5092afb8",
   "metadata": {},
   "outputs": [],
   "source": [
    "try:\n",
    "    conn.close()\n",
    "except psycopg2.Error as e:\n",
    "    print(\"Error: Couln't close connection\")"
   ]
  },
  {
   "cell_type": "code",
   "execution_count": 30,
   "id": "a8b2e98c",
   "metadata": {},
   "outputs": [],
   "source": [
    "try:\n",
    "    conn = psycopg2.connect(\"host=localhost port=5432 dbname=myfirstdb user=postgres password=shiv\")\n",
    "except psycopg2.OperationalError as e:\n",
    "    print(\"Error: Could not make connection to database\")\n",
    "    print(e)\n",
    "\n",
    "cur = conn.cursor()\n",
    "conn.set_session(autocommit = True)\n"
   ]
  },
  {
   "cell_type": "code",
   "execution_count": 32,
   "id": "45bfc08b",
   "metadata": {},
   "outputs": [],
   "source": [
    "try:\n",
    "    cur.execute(\"CREATE TABLE IF NOT EXISTS students(student_id INT,name varchar,age int, gender varchar, marks int,\\\n",
    "    subject varchar);\")\n",
    "except psycopg2.Error as e:\n",
    "    print(\"Error: Couldn't create the table students\")\n",
    "    print(e)"
   ]
  },
  {
   "cell_type": "markdown",
   "id": "9875aa60",
   "metadata": {},
   "source": [
    "Inserting rows into the table now"
   ]
  },
  {
   "cell_type": "code",
   "execution_count": 41,
   "id": "1894c9c4",
   "metadata": {},
   "outputs": [],
   "source": [
    "try:\n",
    "    cur.execute(\n",
    "    \"INSERT INTO students(student_id, name, age, gender, marks, subject) \"\n",
    "    \"VALUES(%s, %s, %s, %s, %s, %s)\", \n",
    "    (0, \"iv\", 6, \"Male\", 9, \"hindi\"))\n",
    "except psycopg2.Error as e:\n",
    "    print(\"Error occured\")\n",
    "    print(e)"
   ]
  },
  {
   "cell_type": "code",
   "execution_count": 42,
   "id": "7772d8ef",
   "metadata": {},
   "outputs": [],
   "source": [
    "try:\n",
    "    cur.execute(\n",
    "    \"INSERT INTO students(student_id, name, age, gender, marks, subject) \"\n",
    "    \"VALUES(%s, %s, %s, %s, %s, %s)\", \n",
    "    (2, \"Raj\", 89, \"Male\", 6, \"English\"))\n",
    "except psycopg2.Error as e:\n",
    "    print(\"Error occured\")\n",
    "    print(e)"
   ]
  },
  {
   "cell_type": "code",
   "execution_count": 43,
   "id": "419aca80",
   "metadata": {},
   "outputs": [],
   "source": [
    "try:\n",
    "    cur.execute(\n",
    "    \"INSERT INTO students(student_id, name, age, gender, marks, subject) \"\n",
    "    \"VALUES(%s, %s, %s, %s, %s, %s)\", \n",
    "    (0, \"Viay\", 67, \"Male\", 59, \"hindi\"))\n",
    "except psycopg2.Error as e:\n",
    "    print(\"Error occured\")\n",
    "    print(e)"
   ]
  },
  {
   "cell_type": "markdown",
   "id": "5b05584b",
   "metadata": {},
   "source": [
    "Validate the data"
   ]
  },
  {
   "cell_type": "code",
   "execution_count": 53,
   "id": "5afa6740",
   "metadata": {
    "scrolled": true
   },
   "outputs": [
    {
     "name": "stdout",
     "output_type": "stream",
     "text": [
      "(0, 'iv', 6, 'Male', 9, 'hindi')\n",
      "(2, 'Raj', 89, 'Male', 6, 'English')\n",
      "(0, 'Viay', 67, 'Male', 59, 'hindi')\n"
     ]
    }
   ],
   "source": [
    "try:\n",
    "    cur.execute(\"SELECT * FROM students\")\n",
    "except pyscopg2.error as e:\n",
    "    print(\"Error in the data\")\n",
    "    print(e)\n",
    "\n",
    "row = cur.fetchone()\n",
    "while row:\n",
    "    print(row)\n",
    "    row = cur.fetchone()"
   ]
  },
  {
   "cell_type": "markdown",
   "id": "86ad98e8",
   "metadata": {},
   "source": [
    "Close the connection of the cursor as well as the connection to myfirstdb database."
   ]
  },
  {
   "cell_type": "code",
   "execution_count": 54,
   "id": "ad26e809",
   "metadata": {},
   "outputs": [],
   "source": [
    "try:\n",
    "    cur.close()\n",
    "    conn.close()\n",
    "except psycopg2.Error as e:\n",
    "    print(\"Error in closing the connection\")\n",
    "    print(e)"
   ]
  },
  {
   "cell_type": "code",
   "execution_count": null,
   "id": "d39c0492",
   "metadata": {},
   "outputs": [],
   "source": []
  }
 ],
 "metadata": {
  "kernelspec": {
   "display_name": "Python 3 (ipykernel)",
   "language": "python",
   "name": "python3"
  },
  "language_info": {
   "codemirror_mode": {
    "name": "ipython",
    "version": 3
   },
   "file_extension": ".py",
   "mimetype": "text/x-python",
   "name": "python",
   "nbconvert_exporter": "python",
   "pygments_lexer": "ipython3",
   "version": "3.9.13"
  }
 },
 "nbformat": 4,
 "nbformat_minor": 5
}
